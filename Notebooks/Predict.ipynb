{
 "cells": [
  {
   "cell_type": "code",
   "execution_count": 1,
   "metadata": {},
   "outputs": [],
   "source": [
    "import tensorflow as tf"
   ]
  },
  {
   "cell_type": "code",
   "execution_count": 2,
   "metadata": {},
   "outputs": [],
   "source": [
    "import pandas as pd\n",
    "import numpy as np"
   ]
  },
  {
   "cell_type": "code",
   "execution_count": 3,
   "metadata": {},
   "outputs": [],
   "source": [
    "missings = pd.read_csv(\"../../dmbi-18-ddi/missings.csv\", index_col=0)"
   ]
  },
  {
   "cell_type": "code",
   "execution_count": 4,
   "metadata": {},
   "outputs": [],
   "source": [
    "tf.reset_default_graph()"
   ]
  },
  {
   "cell_type": "code",
   "execution_count": null,
   "metadata": {},
   "outputs": [],
   "source": [
    "import time"
   ]
  },
  {
   "cell_type": "code",
   "execution_count": 9,
   "metadata": {},
   "outputs": [],
   "source": [
    "dirs = [\"1525391360\"]\n",
    "batch_size = 10000\n",
    "final_preds = np.zeros(len(missings))\n",
    "for d in dirs:\n",
    "    #exec(open(\"{0}/tf_model.py\".format(d)).read())\n",
    "    tf.reset_default_graph()\n",
    "    with tf.Session() as sess:\n",
    "        saver = tf.train.import_meta_graph(\"./{0}/meta.model\".format(d))\n",
    "        saver.restore(sess, \"./{0}/model.model\".format(d))\n",
    "        preds = np.array([])\n",
    "        for i in range(0, len(missings), batch_size):\n",
    "            t_preds =  sess.run(\"output:0\", feed_dict={\n",
    "                \"left_index:0\" : missings.node1.values[i:i+batch_size],\n",
    "                \"right_index:0\" : missings.node2.values[i:i+batch_size]\n",
    "            })\n",
    "            preds = np.hstack([preds, t_preds])\n",
    "    final_preds = final_preds + preds\n",
    "final_preds = final_preds / len(dirs)"
   ]
  },
  {
   "cell_type": "code",
   "execution_count": 12,
   "metadata": {},
   "outputs": [],
   "source": [
    "def write_solution_to_file(preds,file_path):\n",
    "    #preds is assumed to be ordered by confidence level\n",
    "    #adds the header to the soultion, combines the node IDs and writes the solution to file\n",
    "    #asserts are important. Note them.\n",
    "\n",
    "    print('writing predictions to file: {file_path}')\n",
    "    for u, v in preds:\n",
    "       assert u < v, 'graph is undirected, predict edges where the first node id is smaller than the second only'\n",
    "    assert len(preds) == (1434 * 1434 - 1434 - 93200) / 2, \"number of predictions is equal to number of non existing edges\"\n",
    "    #add title & predictions\n",
    "    output = [','.join([\"node1\" + '_' + \"node2\"])]+[','.join([str(p[0]) +'_' + str(p[1])]) for p in preds]\n",
    "    print(len(output))\n",
    "    write_list_to_file(output,file_path)\n",
    "    \n",
    "def write_list_to_file(list, path):\n",
    "    thefile = open(path, 'w')\n",
    "    for item in list:\n",
    "        thefile.write(\"%s\\n\" % item)\n",
    "    thefile.close()\n"
   ]
  },
  {
   "cell_type": "code",
   "execution_count": 13,
   "metadata": {},
   "outputs": [
    {
     "ename": "NameError",
     "evalue": "name 'time' is not defined",
     "output_type": "error",
     "traceback": [
      "\u001b[1;31m---------------------------------------------------------------------------\u001b[0m",
      "\u001b[1;31mNameError\u001b[0m                                 Traceback (most recent call last)",
      "\u001b[1;32m<ipython-input-13-22fb7f904fdb>\u001b[0m in \u001b[0;36m<module>\u001b[1;34m()\u001b[0m\n\u001b[0;32m      1\u001b[0m \u001b[0mordered_preds\u001b[0m \u001b[1;33m=\u001b[0m \u001b[0mmissings\u001b[0m\u001b[1;33m.\u001b[0m\u001b[0miloc\u001b[0m\u001b[1;33m[\u001b[0m\u001b[0mnp\u001b[0m\u001b[1;33m.\u001b[0m\u001b[0margsort\u001b[0m\u001b[1;33m(\u001b[0m\u001b[0mfinal_preds\u001b[0m\u001b[1;33m)\u001b[0m\u001b[1;33m[\u001b[0m\u001b[1;33m:\u001b[0m\u001b[1;33m:\u001b[0m\u001b[1;33m-\u001b[0m\u001b[1;36m1\u001b[0m\u001b[1;33m]\u001b[0m\u001b[1;33m]\u001b[0m\u001b[1;33m.\u001b[0m\u001b[0mT\u001b[0m\u001b[1;33m.\u001b[0m\u001b[0mapply\u001b[0m\u001b[1;33m(\u001b[0m\u001b[1;32mlambda\u001b[0m \u001b[0mx\u001b[0m\u001b[1;33m:\u001b[0m \u001b[1;33m(\u001b[0m\u001b[0mx\u001b[0m\u001b[1;33m.\u001b[0m\u001b[0mnode1\u001b[0m\u001b[1;33m,\u001b[0m \u001b[0mx\u001b[0m\u001b[1;33m.\u001b[0m\u001b[0mnode2\u001b[0m\u001b[1;33m)\u001b[0m\u001b[1;33m)\u001b[0m\u001b[1;33m\u001b[0m\u001b[0m\n\u001b[1;32m----> 2\u001b[1;33m \u001b[0mwrite_solution_to_file\u001b[0m\u001b[1;33m(\u001b[0m\u001b[0mordered_preds\u001b[0m\u001b[1;33m,\u001b[0m\u001b[1;34m'predictions_ensemble_{0}.csv'\u001b[0m\u001b[1;33m.\u001b[0m\u001b[0mformat\u001b[0m\u001b[1;33m(\u001b[0m\u001b[0mint\u001b[0m\u001b[1;33m(\u001b[0m\u001b[0mtime\u001b[0m\u001b[1;33m.\u001b[0m\u001b[0mtime\u001b[0m\u001b[1;33m(\u001b[0m\u001b[1;33m)\u001b[0m\u001b[1;33m)\u001b[0m\u001b[1;33m)\u001b[0m\u001b[1;33m)\u001b[0m\u001b[1;33m\u001b[0m\u001b[0m\n\u001b[0m",
      "\u001b[1;31mNameError\u001b[0m: name 'time' is not defined"
     ]
    }
   ],
   "source": [
    "ordered_preds = missings.iloc[np.argsort(final_preds)[::-1]].T.apply(lambda x: (x.node1, x.node2))\n",
    "write_solution_to_file(ordered_preds,'predictions_ensemble_{0}.csv'.format(int(time.time())))"
   ]
  },
  {
   "cell_type": "code",
   "execution_count": 64,
   "metadata": {},
   "outputs": [],
   "source": []
  },
  {
   "cell_type": "code",
   "execution_count": null,
   "metadata": {},
   "outputs": [],
   "source": []
  }
 ],
 "metadata": {
  "kernelspec": {
   "display_name": "Python 3",
   "language": "python",
   "name": "python3"
  },
  "language_info": {
   "codemirror_mode": {
    "name": "ipython",
    "version": 3
   },
   "file_extension": ".py",
   "mimetype": "text/x-python",
   "name": "python",
   "nbconvert_exporter": "python",
   "pygments_lexer": "ipython3",
   "version": "3.5.3"
  },
  "toc": {
   "nav_menu": {},
   "number_sections": true,
   "sideBar": true,
   "skip_h1_title": false,
   "title_cell": "Table of Contents",
   "title_sidebar": "Contents",
   "toc_cell": false,
   "toc_position": {},
   "toc_section_display": true,
   "toc_window_display": true
  },
  "varInspector": {
   "cols": {
    "lenName": 16,
    "lenType": 16,
    "lenVar": 40
   },
   "kernels_config": {
    "python": {
     "delete_cmd_postfix": "",
     "delete_cmd_prefix": "del ",
     "library": "var_list.py",
     "varRefreshCmd": "print(var_dic_list())"
    },
    "r": {
     "delete_cmd_postfix": ") ",
     "delete_cmd_prefix": "rm(",
     "library": "var_list.r",
     "varRefreshCmd": "cat(var_dic_list()) "
    }
   },
   "types_to_exclude": [
    "module",
    "function",
    "builtin_function_or_method",
    "instance",
    "_Feature"
   ],
   "window_display": false
  }
 },
 "nbformat": 4,
 "nbformat_minor": 2
}
